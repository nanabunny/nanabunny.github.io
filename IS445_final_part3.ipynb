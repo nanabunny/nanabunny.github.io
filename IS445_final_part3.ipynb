{
 "cells": [
  {
   "cell_type": "markdown",
   "id": "dcba376e",
   "metadata": {},
   "source": [
    "# Pokemon Dataset Exploration"
   ]
  },
  {
   "cell_type": "markdown",
   "id": "7b547113",
   "metadata": {},
   "source": [
    "### Author: Xinyu Lu"
   ]
  },
  {
   "cell_type": "markdown",
   "id": "f2c1ca95",
   "metadata": {},
   "source": [
    "## Introduction"
   ]
  },
  {
   "cell_type": "markdown",
   "id": "bbe3fe8a",
   "metadata": {},
   "source": [
    "Pokemon is famous all over the world with millions of fans. I'll use the [Pokemon](https://www.kaggle.com/abcsds/pokemon) dataset to conduct an overall exploration on Pokemon and their own attributes. I got the dataset from Kaggle, and it is an open dataset that allows users to do any analysis. The dataset is 44kb with 721 rows and 12 columns, and I attached the link at the bottom of this page. This is a dataset which includes 721 Pokemon from six generations, and contains 10 attributes including their numbers, names, first and second types, and basic stats:HP, Attack, Defense, Special Attack, Special Defense, and speed. "
   ]
  },
  {
   "cell_type": "markdown",
   "id": "6c6e2f6a",
   "metadata": {},
   "source": [
    "Pokemons are very cute, and it is also very interesting to see if there is any relationship between their basic stats. The dashboard I created could help people explore and understand the Pokemon dataset thoroughly. Furthermore, it can also give good suggestions on selecting which type of pokemons under different situations for Pokemon game players."
   ]
  },
  {
   "cell_type": "markdown",
   "id": "9489a45b",
   "metadata": {},
   "source": [
    "#### Dataset Description\n",
    "The attributes contained in this dataset:\n",
    "1. Name: The English name of each Pokemon. (Data type: String)\n",
    "2. Type1: The primary type of the Pokemon. Each Pokemon has at least one type, which determines weakness/resistance to attacks from other Pokemon. (Data type: String)\n",
    "3. Type2: The Secondary type of the Pokemon. Some of the Pokemon are dual type. (Data type: String)\n",
    "4. Total: The sum of all base data that come after this column. Basically, it can show how strong a pokemon is. (Data type: Number)\n",
    "5. HP: Base HP value, defines how much damage this pokemon can withstand. (Data type: Number)\n",
    "6. Attack: Normal Attack value. (Data type: Number)\n",
    "7. Defense: the base damage resistance agianst normal attack. (Data type: Number)\n",
    "8. SP Atk: Base special-attack value. (Data type: Number)\n",
    "9. SP Def: the base damage resistance agianst special-attack. (Data type: Number)\n",
    "10. Speed: base speed value, determines which pokemon attacks first each round. (Data type: Number)\n",
    "11. Generation: The generation number of a Pokemon. A generation is a grouping of the Pokémon games that separates them based on the Pokémon they include.(Data type: Number)\n",
    "12. Legendary: Legendary Pokemon are a group of incredibly rare and often very powerful Pokémon. (Data type: Number)"
   ]
  },
  {
   "cell_type": "markdown",
   "id": "d4d6ad89",
   "metadata": {},
   "source": [
    "## Central Visualization"
   ]
  },
  {
   "cell_type": "code",
   "execution_count": 1,
   "id": "8b3adb51",
   "metadata": {},
   "outputs": [],
   "source": [
    "import pandas as pd\n",
    "import numpy as np\n",
    "import bqplot\n",
    "import ipywidgets\n",
    "from ipywidgets import interact, interactive, fixed, interact_manual\n",
    "from matplotlib import pyplot as plt\n",
    "import matplotlib.gridspec as gridspec\n",
    "import seaborn as sns\n",
    "import random\n",
    "%matplotlib inline"
   ]
  },
  {
   "cell_type": "code",
   "execution_count": 2,
   "id": "59bf86f4",
   "metadata": {},
   "outputs": [],
   "source": [
    "def get_data(path):\n",
    "    data = pd.read_csv(path)\n",
    "    return data\n",
    "data = get_data('Pokemon.csv')"
   ]
  },
  {
   "cell_type": "code",
   "execution_count": 3,
   "id": "130d9c21",
   "metadata": {},
   "outputs": [
    {
     "data": {
      "text/plain": [
       "Index(['#', 'Name', 'Type1', 'Type2', 'Total', 'HP', 'Attack', 'Defense',\n",
       "       'Sp. Atk', 'Sp. Def', 'Speed', 'Generation', 'Legendary'],\n",
       "      dtype='object')"
      ]
     },
     "execution_count": 3,
     "metadata": {},
     "output_type": "execute_result"
    }
   ],
   "source": [
    "data.columns"
   ]
  },
  {
   "cell_type": "code",
   "execution_count": 4,
   "id": "0997af31",
   "metadata": {},
   "outputs": [],
   "source": [
    "# define two categories, first is from the pokemon dataset attributes, second is two kinds of plots I want to show.\n",
    "cat1 = ['Type', 'Total', 'HP', 'Attack', 'Defense', 'Sp. Atk', 'Sp. Def', 'Speed']\n",
    "cat2 = ['Count', 'Density','Box']"
   ]
  },
  {
   "cell_type": "code",
   "execution_count": 5,
   "id": "384730dc",
   "metadata": {},
   "outputs": [],
   "source": [
    "# first kind of plot which shows count and distribution\n",
    "def plot_count(col1, col2):\n",
    "    if col1 == 'Type':\n",
    "        # analyze type 1 and type 2 at the same time\n",
    "        type_2_count = data['Type2'].value_counts()\n",
    "        type_1_count = data['Type1'].value_counts()\n",
    "        fig, ax = plt.subplots(figsize=(15, 8))\n",
    "        ax.bar(type_1_count.index, type_1_count.values, color='#b92b27')\n",
    "        ax.bar(type_1_count.index,type_2_count.values, color='#1565C0')\n",
    "        ax.set_xlabel('Types of Pokemon')\n",
    "        ax.set_ylabel('Total number types of Pokemon')\n",
    "        ax.set_title('Total count types of Pokemon')\n",
    "        plt.tight_layout()\n",
    "    else:\n",
    "        colors = ['#C6FFDD', '#FBD786', '#f7797d', '#373B44', '#4286f4', '#f5af19', '#3b8d99']\n",
    "        color = colors[random.randint(0,6)]\n",
    "        fig = data.loc[:, [col1]].hist(bins=20, color=color, linewidth=1.0, xlabelsize=10, ylabelsize=10, xrot=45, yrot=0, figsize=(10,9), grid=False)\n",
    "        plt.tight_layout(rect=(0, 0, 1.5, 1.5))\n",
    "\n",
    "# second kind of plot which presents density of legendary and non-legendary pokemons.\n",
    "def plot_density(col1, col2):\n",
    "    fig, axes = plt.subplots(figsize=(13, 9))\n",
    "    \n",
    "    non_legendary = data[data['Legendary']==False]\n",
    "    legendary = data[data['Legendary']==True]\n",
    "    \n",
    "    # sns.distplot(data[col1], hist=False, color='#ee9ca7', kde_kws={\"shade\": True})\n",
    "    sns.distplot(non_legendary[col1], hist=False, color='#86A8E7', kde_kws={\"shade\": True})\n",
    "    sns.distplot(legendary[col1], hist=False, color='#11998e', kde_kws={\"shade\": True})\n",
    "    fig.legend(labels=['Legendary', 'Non-Legendary'], loc=4)\n",
    "    plt.tight_layout()\n",
    "\n",
    "# third kind of plot: determines the best type of pokemon(based on type 1) for each variable using box plot.\n",
    "def plot_box(col1, col2):\n",
    "    fig = plt.figure()\n",
    "    ax = sns.boxplot(y=\"Type1\", x=col1,\n",
    "            data=data)\n",
    "    # two lines of code following are guidelines for users to understand better.\n",
    "    # plt.axvline(df[df['TYPE 1']=='Dragon']['HP'].quantile(.5), ls='--', linewidth=1, color='red')\n",
    "    # plt.text( (df[df['TYPE 1']=='Dragon']['HP']-14).quantile(.5),18,'Median/Q2')\n",
    "    plt.tight_layout()\n",
    "\n",
    "def interactive_plot(df, cat1, cat2):\n",
    "    if cat1 == 'Type' and cat2 == 'Density':\n",
    "        print('Sorry, there is no plot for this options.')\n",
    "    elif cat2 == 'Count':\n",
    "        plot_count(col1=cat1, col2=cat2)\n",
    "    elif cat2 == 'Density':\n",
    "        plot_density(col1=cat1, col2=cat2)\n",
    "    elif cat1 == 'Type' and cat2 == 'Box':\n",
    "        print('Sorry, there is no plot for this options.')\n",
    "    elif cat2 == 'Box':\n",
    "        plot_box(col1=cat1, col2=cat2)\n",
    "\n",
    "def dropdown(attribute, plot_type):\n",
    "    interactive_plot(data, attribute, plot_type)"
   ]
  },
  {
   "cell_type": "code",
   "execution_count": 6,
   "id": "7dd9e31b",
   "metadata": {},
   "outputs": [],
   "source": [
    "result = interactive(dropdown, attribute=cat1, plot_type=cat2)"
   ]
  },
  {
   "cell_type": "code",
   "execution_count": 7,
   "metadata": {},
   "outputs": [
    {
     "data": {
      "application/vnd.jupyter.widget-view+json": {
       "model_id": "8e6a76fddba249e2bed844b02ae93a79",
       "version_major": 2,
       "version_minor": 0
      },
      "text/plain": [
       "interactive(children=(Dropdown(description='attribute', options=('Type', 'Total', 'HP', 'Attack', 'Defense', '…"
      ]
     },
     "metadata": {},
     "output_type": "display_data"
    }
   ],
   "source": [
    "result"
   ]
  },
  {
   "cell_type": "markdown",
   "id": "48e9f91b",
   "metadata": {},
   "source": [
    "### Description\n",
    "The dashboard I created above could help people explore and understand the pokemon dataset thoroughly. \n",
    "My dashboard contains two dropdown lists, one is for users to select the attribute that they are interested in to explore, and the other one is the plot type. The second dropdown list contains three options: count, density, and box. That is to say, users can get three kinds of plots using the dashboard. \n",
    "The first kind of plot is count plot, which is indeed bar plot, presenting the count and distribution of each variable. The second kind of plot is density plot. And in this kind of graph, I divided the pokemons into two groups: legendary and non-legendary. From density plots, users can get to know the precise distribution of Total, HP, Defense, and other numerical values (except type). Lastly, the box plot helps users to determine the best type of pokemon (based on the primary type: type 1) for each variable. From the box plot plotting 'total' variable, we can see that pokemons whose type 1 is dragon are stronger than other types. \n",
    "Overall, the dashboard created above can give good suggestions on selecting which type of pokemons under different situations for pokemon game players."
   ]
  },
  {
   "cell_type": "markdown",
   "id": "d07bafa1",
   "metadata": {},
   "source": [
    "## Contextual Visualization"
   ]
  },
  {
   "cell_type": "code",
   "execution_count": 8,
   "id": "a9c338c3",
   "metadata": {},
   "outputs": [
    {
     "name": "stdout",
     "output_type": "stream",
     "text": [
      "==========================================\n",
      "The size of the dataset is: \u001b[1;34m(800, 13)\u001b[0m\n"
     ]
    },
    {
     "data": {
      "text/plain": [
       "Text(0.5, 1.0, 'Number of Single Type vs Dual Type Pokemon')"
      ]
     },
     "execution_count": 8,
     "metadata": {},
     "output_type": "execute_result"
    },
    {
     "data": {
      "image/png": "[encoded data removed]",
      "text/plain": [
       "<Figure size 432x288 with 1 Axes>"
      ]
     },
     "metadata": {},
     "output_type": "display_data"
    }
   ],
   "source": [
    "shape = data.shape\n",
    "print('==========================================')\n",
    "print('The size of the dataset is:', \"\\033[1;34m{x}\\033[0m\".format(x=shape))\n",
    "\n",
    "# fill the missing values of 'Type2'\n",
    "data['Type2'].fillna('None', inplace=True)\n",
    "\n",
    "type1 = data['Type1'].unique()\n",
    "type2 = data['Type2'].unique()\n",
    "type1.sort()\n",
    "type2.sort()\n",
    "single_type = []\n",
    "dual_type = []\n",
    "\n",
    "for i in data.index:\n",
    "    if data.Type2[i] == 'None':\n",
    "        single_type.append(data.Name[i])\n",
    "    else:\n",
    "        dual_type.append(data.Name[i])\n",
    "        \n",
    "num_type1 = len(single_type)\n",
    "num_type2 = len(dual_type)\n",
    "\n",
    "ratio_type = [num_type1, num_type2]\n",
    "plt.pie(ratio_type, labels=['Single Type', 'Dual Type'], startangle=90)\n",
    "plt.title('Number of Single Type vs Dual Type Pokemon')"
   ]
  },
  {
   "cell_type": "markdown",
   "id": "54f92c1a",
   "metadata": {},
   "source": [
    "This graph shows the proportion of single-type and dual-type pokemons."
   ]
  },
  {
   "cell_type": "code",
   "execution_count": 9,
   "id": "afc89fd5",
   "metadata": {},
   "outputs": [
    {
     "name": "stdout",
     "output_type": "stream",
     "text": [
      "==========================================\n",
      "The distribution of the Pokemon along generation\n"
     ]
    },
    {
     "data": {
      "image/png": "[encoded data removed]",
      "text/plain": [
       "<Figure size 432x288 with 1 Axes>"
      ]
     },
     "metadata": {
      "needs_background": "light"
     },
     "output_type": "display_data"
    }
   ],
   "source": [
    "print('==========================================')\n",
    "print('The distribution of the Pokemon along generation')\n",
    "generation_hist = sns.histplot(data['Generation'], kde=True, color='g', linewidth=0)"
   ]
  },
  {
   "cell_type": "markdown",
   "id": "3d99c673",
   "metadata": {},
   "source": [
    "This plot shows the distribution of the number of pokemons belonging to different generation."
   ]
  },
  {
   "cell_type": "markdown",
   "id": "71aa4825",
   "metadata": {},
   "source": [
    "## Reference\n",
    "Dataset: https://www.kaggle.com/abcsds/pokemon"
   ]
  },
  {
   "cell_type": "code",
   "execution_count": null,
   "id": "c959d73b",
   "metadata": {},
   "outputs": [],
   "source": []
  }
 ],
 "metadata": {
  "kernelspec": {
   "display_name": "Python 3",
   "language": "python",
   "name": "python3"
  },
  "language_info": {
   "codemirror_mode": {
    "name": "ipython",
    "version": 3
   },
   "file_extension": ".py",
   "mimetype": "text/x-python",
   "name": "python",
   "nbconvert_exporter": "python",
   "pygments_lexer": "ipython3",
   "version": "3.7.10"
  }
 },
 "nbformat": 4,
 "nbformat_minor": 5
}
